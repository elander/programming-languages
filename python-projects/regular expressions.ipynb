{
 "cells": [
  {
   "cell_type": "code",
   "execution_count": 1,
   "metadata": {},
   "outputs": [],
   "source": [
    "import re"
   ]
  },
  {
   "cell_type": "code",
   "execution_count": 2,
   "metadata": {},
   "outputs": [],
   "source": [
    "log_file_path = r\"logfile.txt\""
   ]
  },
  {
   "cell_type": "markdown",
   "metadata": {},
   "source": [
    "Get only the ip address of the place where the requests are broken."
   ]
  },
  {
   "cell_type": "code",
   "execution_count": 3,
   "metadata": {},
   "outputs": [
    {
     "name": "stdout",
     "output_type": "stream",
     "text": [
      "77.179.66.156\n",
      "77.179.66.156\n",
      "77.179.66.156\n",
      "77.179.66.156\n",
      "77.179.66.156\n",
      "77.179.66.156\n",
      "127.0.0.1\n",
      "127.0.0.1\n"
     ]
    }
   ],
   "source": [
    "regex = '^(\\d{1,3}\\.\\d{1,3}\\.\\d{1,3}\\.\\d{1,3}).* [4-5][0-9][0-9] .*'\n",
    " \n",
    "match_list = []\n",
    "with open(log_file_path, \"r\") as file:\n",
    "    for line in file:\n",
    "        for match in re.finditer(regex, line, re.S):\n",
    "            match_text = match.group(1)\n",
    "            match_list.append(match_text)\n",
    "            print(match_text)"
   ]
  }
 ],
 "metadata": {
  "kernelspec": {
   "display_name": "Python 3",
   "language": "python",
   "name": "python3"
  },
  "language_info": {
   "codemirror_mode": {
    "name": "ipython",
    "version": 3
   },
   "file_extension": ".py",
   "mimetype": "text/x-python",
   "name": "python",
   "nbconvert_exporter": "python",
   "pygments_lexer": "ipython3",
   "version": "3.6.5"
  }
 },
 "nbformat": 4,
 "nbformat_minor": 2
}
