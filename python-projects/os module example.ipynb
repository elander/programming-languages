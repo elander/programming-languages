{
 "cells": [
  {
   "cell_type": "code",
   "execution_count": 1,
   "metadata": {},
   "outputs": [],
   "source": [
    "import os"
   ]
  },
  {
   "cell_type": "code",
   "execution_count": 2,
   "metadata": {},
   "outputs": [
    {
     "data": {
      "text/plain": [
       "'posix'"
      ]
     },
     "execution_count": 2,
     "metadata": {},
     "output_type": "execute_result"
    }
   ],
   "source": [
    "os.name"
   ]
  },
  {
   "cell_type": "code",
   "execution_count": 3,
   "metadata": {},
   "outputs": [
    {
     "name": "stdout",
     "output_type": "stream",
     "text": [
      "/Users/joydeep/thinking/training\n"
     ]
    }
   ],
   "source": [
    "print(os.getcwd()) "
   ]
  },
  {
   "cell_type": "markdown",
   "metadata": {},
   "source": [
    "Implementing the recursive grep"
   ]
  },
  {
   "cell_type": "code",
   "execution_count": 7,
   "metadata": {},
   "outputs": [],
   "source": [
    "import os\n",
    "import re\n",
    "\n",
    "def findfiles(path, regex):\n",
    "    regObj = re.compile(regex)\n",
    "    res = []\n",
    "    for root, dirs, fnames in os.walk(path):\n",
    "        for fname in fnames:\n",
    "            if regObj.match(fname):\n",
    "                res.append(os.path.join(root, fname))\n",
    "    return res\n",
    "\n",
    "def grep(filepath, regex):\n",
    "    regObj = re.compile(regex)\n",
    "    res = []\n",
    "    with open(filepath) as f:\n",
    "        for lineno, line in enumerate(f):\n",
    "            if regObj.match(line):\n",
    "                res.append((lineno, line))\n",
    "    return res"
   ]
  },
  {
   "cell_type": "code",
   "execution_count": 8,
   "metadata": {},
   "outputs": [
    {
     "name": "stdout",
     "output_type": "stream",
     "text": [
      "['./venv/lib/python3.6/site-packages/jupyter_core/tests/dotipython/nbextensions/myext.js']\n"
     ]
    }
   ],
   "source": [
    "print (findfiles('.', r'my?(reg|ex)'))"
   ]
  },
  {
   "cell_type": "code",
   "execution_count": 9,
   "metadata": {},
   "outputs": [
    {
     "name": "stdout",
     "output_type": "stream",
     "text": [
      "[(0, 'var hello;\\n')]\n"
     ]
    }
   ],
   "source": [
    "for file in findfiles('.', r'my?(reg|ex)'):\n",
    "    print(grep(file, \"var\"))"
   ]
  },
  {
   "cell_type": "code",
   "execution_count": null,
   "metadata": {},
   "outputs": [],
   "source": []
  }
 ],
 "metadata": {
  "kernelspec": {
   "display_name": "Python 3",
   "language": "python",
   "name": "python3"
  },
  "language_info": {
   "codemirror_mode": {
    "name": "ipython",
    "version": 3
   },
   "file_extension": ".py",
   "mimetype": "text/x-python",
   "name": "python",
   "nbconvert_exporter": "python",
   "pygments_lexer": "ipython3",
   "version": "3.6.5"
  }
 },
 "nbformat": 4,
 "nbformat_minor": 2
}
