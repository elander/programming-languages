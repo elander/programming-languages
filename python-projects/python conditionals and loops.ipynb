{
 "cells": [
  {
   "cell_type": "markdown",
   "metadata": {},
   "source": [
    "## If conditions"
   ]
  },
  {
   "cell_type": "markdown",
   "metadata": {},
   "source": [
    "The syntax is if .. elif .. else with indentation."
   ]
  },
  {
   "cell_type": "code",
   "execution_count": 18,
   "metadata": {},
   "outputs": [
    {
     "name": "stdout",
     "output_type": "stream",
     "text": [
      "76\n",
      "You chose some other number.\n"
     ]
    }
   ],
   "source": [
    "my_choice = int(input())\n",
    "if my_choice == 0:\n",
    "    print(\"You chose 0.\")\n",
    "elif my_choice == 1:\n",
    "    print(\"You chose 1.\")\n",
    "else:\n",
    "    print(\"You chose some other number.\")"
   ]
  },
  {
   "cell_type": "markdown",
   "metadata": {},
   "source": [
    "Exercise: Write a game that guesses the user input and if the guess is write it says you win."
   ]
  },
  {
   "cell_type": "code",
   "execution_count": 28,
   "metadata": {},
   "outputs": [
    {
     "name": "stdout",
     "output_type": "stream",
     "text": [
      "[0, 1, 2, 3, 4, 5, 6, 7, 8]\n",
      "0\n"
     ]
    }
   ],
   "source": [
    "import random\n",
    "mychoices = list(range(9)) # range will give numbers from 0 to that number\n",
    "print(mychoices)\n",
    "num = random.choice(range(9)) # choice will arbitrarily chose a number out of the underlying collection.\n",
    "print(num)"
   ]
  },
  {
   "cell_type": "code",
   "execution_count": 2,
   "metadata": {},
   "outputs": [
    {
     "name": "stdout",
     "output_type": "stream",
     "text": [
      "Lets play a game.\n",
      "Choose any between 0 and 1:\n",
      "0\n"
     ]
    }
   ],
   "source": [
    "import random\n",
    "num = random.choice(range(2)) # either 0 or 1\n",
    "print(\"Lets play a game.\")\n",
    "print(\"Choose any between 0 and 1:\")\n",
    "my_choice = int(input())"
   ]
  },
  {
   "cell_type": "code",
   "execution_count": 3,
   "metadata": {},
   "outputs": [],
   "source": [
    "# write the remaining code."
   ]
  },
  {
   "cell_type": "markdown",
   "metadata": {},
   "source": [
    "Nested if statements is also fine"
   ]
  },
  {
   "cell_type": "code",
   "execution_count": 4,
   "metadata": {},
   "outputs": [
    {
     "name": "stdout",
     "output_type": "stream",
     "text": [
      "You are quite close to the answer to the meaning of the universe.\n"
     ]
    }
   ],
   "source": [
    "num = 42\n",
    "if num > 20:\n",
    "    if num < 50:\n",
    "        print(\"You are quite close to the answer to the meaning of the universe.\")"
   ]
  },
  {
   "cell_type": "markdown",
   "metadata": {},
   "source": [
    "You can write in a single line also"
   ]
  },
  {
   "cell_type": "code",
   "execution_count": 5,
   "metadata": {},
   "outputs": [
    {
     "name": "stdout",
     "output_type": "stream",
     "text": [
      "a is greater than b\n"
     ]
    }
   ],
   "source": [
    "a = 10\n",
    "b = 5\n",
    "if a > b: print(\"a is greater than b\")"
   ]
  },
  {
   "cell_type": "markdown",
   "metadata": {},
   "source": [
    "You can club conditionals using and and or"
   ]
  },
  {
   "cell_type": "code",
   "execution_count": 6,
   "metadata": {},
   "outputs": [
    {
     "name": "stdout",
     "output_type": "stream",
     "text": [
      "Both conditions are True\n"
     ]
    }
   ],
   "source": [
    "c = 15\n",
    "if a > b and c > a:\n",
    "    print(\"Both conditions are True\")"
   ]
  },
  {
   "cell_type": "code",
   "execution_count": 7,
   "metadata": {},
   "outputs": [
    {
     "name": "stdout",
     "output_type": "stream",
     "text": [
      "At least one of the conditions are True\n"
     ]
    }
   ],
   "source": [
    "if a > b or a > c:\n",
    "    print(\"At least one of the conditions are True\")"
   ]
  },
  {
   "cell_type": "markdown",
   "metadata": {},
   "source": [
    "Conditions:\n",
    "\n",
    "All normal conditions work:\n",
    "\n",
    "* Less than <\n",
    "* Greater than >\n",
    "* Less than or equal <=\n",
    "* Greater than or equal >=\n",
    "* Equals ==\n",
    "* Not equal !="
   ]
  },
  {
   "cell_type": "code",
   "execution_count": 29,
   "metadata": {},
   "outputs": [
    {
     "data": {
      "text/plain": [
       "True"
      ]
     },
     "execution_count": 29,
     "metadata": {},
     "output_type": "execute_result"
    }
   ],
   "source": [
    "a = 5 # assignment\n",
    "b = 5\n",
    "a == b # test"
   ]
  },
  {
   "cell_type": "code",
   "execution_count": 9,
   "metadata": {},
   "outputs": [
    {
     "ename": "IndentationError",
     "evalue": "expected an indented block (<ipython-input-9-7d5acb050436>, line 15)",
     "output_type": "error",
     "traceback": [
      "\u001b[0;36m  File \u001b[0;32m\"<ipython-input-9-7d5acb050436>\"\u001b[0;36m, line \u001b[0;32m15\u001b[0m\n\u001b[0;31m    main()\u001b[0m\n\u001b[0m       ^\u001b[0m\n\u001b[0;31mIndentationError\u001b[0m\u001b[0;31m:\u001b[0m expected an indented block\n"
     ]
    }
   ],
   "source": [
    "def calcWeeklyWages(totalHours, hourlyWage):\n",
    "    '''Return the total weekly wages for a worker working totalHours,\n",
    "    with a given regular hourlyWage.  Include overtime for hours over 40.\n",
    "    '''\n",
    "    # complete this function\n",
    "    pass\n",
    "\n",
    "def main():\n",
    "    hours = float(input('Enter hours worked: '))\n",
    "    wage = float(input('Enter dollars paid per hour: '))\n",
    "    total = calcWeeklyWages(hours, wage)\n",
    "    print('Wages for {hours} hours at ${wage:.2f} per hour are ${total:.2f}.'\n",
    "          .format(hours=hours, wage=wage, total=total))\n",
    "\n",
    "main()"
   ]
  },
  {
   "cell_type": "markdown",
   "metadata": {},
   "source": [
    "## for and while"
   ]
  },
  {
   "cell_type": "code",
   "execution_count": 10,
   "metadata": {},
   "outputs": [
    {
     "name": "stdout",
     "output_type": "stream",
     "text": [
      "apples\n",
      "oranges\n",
      "mangoes\n"
     ]
    }
   ],
   "source": [
    "fruits = [\"apples\", \"oranges\", \"mangoes\"]\n",
    "for fruit in fruits:\n",
    "    print(fruit)"
   ]
  },
  {
   "cell_type": "markdown",
   "metadata": {},
   "source": [
    "Python for loops actually run over the whole thing item by item, unlike c."
   ]
  },
  {
   "cell_type": "markdown",
   "metadata": {},
   "source": [
    "If you need the index also there is a handy function called enumerators."
   ]
  },
  {
   "cell_type": "code",
   "execution_count": 11,
   "metadata": {},
   "outputs": [
    {
     "name": "stdout",
     "output_type": "stream",
     "text": [
      "index is 0\n",
      "fruit is apples\n",
      "###########################\n",
      "index is 1\n",
      "fruit is oranges\n",
      "###########################\n",
      "index is 2\n",
      "fruit is mangoes\n",
      "###########################\n"
     ]
    }
   ],
   "source": [
    "for index, fruit in enumerate(fruits):\n",
    "    print(\"index is %s\" % index)\n",
    "    print(\"fruit is %s\" % fruit)\n",
    "    print(\"###########################\")"
   ]
  },
  {
   "cell_type": "markdown",
   "metadata": {},
   "source": [
    "You can do the above logic using a while loop as well."
   ]
  },
  {
   "cell_type": "code",
   "execution_count": 12,
   "metadata": {},
   "outputs": [
    {
     "name": "stdout",
     "output_type": "stream",
     "text": [
      "apples\n",
      "oranges\n",
      "mangoes\n"
     ]
    }
   ],
   "source": [
    "i = 0\n",
    "while i < len(fruits):\n",
    "    print(fruits[i])\n",
    "    i += 1"
   ]
  },
  {
   "cell_type": "markdown",
   "metadata": {},
   "source": [
    "Nesting in for loops is perfectly valid."
   ]
  },
  {
   "cell_type": "code",
   "execution_count": 13,
   "metadata": {},
   "outputs": [
    {
     "name": "stdout",
     "output_type": "stream",
     "text": [
      "1 x 4 = 4\n",
      "1 x 5 = 5\n",
      "1 x 6 = 6\n",
      "2 x 4 = 8\n",
      "2 x 5 = 10\n",
      "2 x 6 = 12\n"
     ]
    }
   ],
   "source": [
    "for i in range(1,3):\n",
    "    for j in range(4,7):\n",
    "        print('%d x %d = %d' % (i, j, i*j))"
   ]
  },
  {
   "cell_type": "markdown",
   "metadata": {},
   "source": [
    "Exercise: Create a prime number generator."
   ]
  },
  {
   "cell_type": "code",
   "execution_count": 14,
   "metadata": {},
   "outputs": [],
   "source": [
    "def prime_number_generator(n):\n",
    "    # code\n",
    "    pass"
   ]
  }
 ],
 "metadata": {
  "kernelspec": {
   "display_name": "Python 3",
   "language": "python",
   "name": "python3"
  },
  "language_info": {
   "codemirror_mode": {
    "name": "ipython",
    "version": 3
   },
   "file_extension": ".py",
   "mimetype": "text/x-python",
   "name": "python",
   "nbconvert_exporter": "python",
   "pygments_lexer": "ipython3",
   "version": "3.6.5"
  }
 },
 "nbformat": 4,
 "nbformat_minor": 2
}
